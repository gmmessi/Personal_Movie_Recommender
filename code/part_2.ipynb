{
 "cells": [
  {
   "cell_type": "markdown",
   "metadata": {
    "deletable": false,
    "editable": false,
    "nbgrader": {
     "checksum": "6d36c194d4882ed6fac55a28639d2cf2",
     "grade": false,
     "grade_id": "cell-42e0aea8cfd7c364",
     "locked": true,
     "schema_version": 1,
     "solution": false
    }
   },
   "source": [
    "# Bonus Project 2: Recommder System for Movies\n",
    "\n",
    "In this project, you will implement a recommender system for your classmates, professor and TAs based on the movie survey we have conducted. The movie preference file is at **./data/movie_preference.csv**\n",
    "\n",
    "## Recommender System\n",
    "\n",
    "The objective of a Recommender System is to recommend relevant items for users, based on their preference. Recommender system is prevalent in the digital space. For example, when you go shopping on Amazon, you will notice that Amazon is recommending products on the front page before you even type anything in the search box. Similarly, when you go on YouTube, the top bar of Youtube is typically \"videos recommended to you.\" All these features are based on recommmender system. \n",
    "\n",
    "What item to recommend to which user is arguably the most important business decision in many digital platforms. For instance, YouTube cannot control which videos that users upload to it. It cannot control which videos users like to watch. Moreoveor, since watching videos is free, YouTube cannot change the price of its items. It does not have inventory either since each video can be viewed as many times as possible. In this case, what could YouTube control? Or in other words, what differentiates a good video streaming service from a bad one? The answer is recommender system. \n",
    "\n",
    "## Types of Recommender Systems\n",
    "\n",
    "There are **three** types of recommender system. **In this bonus project, we will implement the first one.**\n",
    "\n",
    "### Popularity-based Recommendation \n",
    "\n",
    "The most obvious system is popularity-based recommendation. In this case, this model recommends to a user the most popular items that the user has not previously consumed. In the movie setting, we will recommend the movie that most users have liked and consumed. In other words, this system utilizes the \"widom of the crowds.\" It usually provides good recommendations for most of the people. Since it is easy to implement, people normally use popularity-based recommendation as a baseline. *Note: this system is not personalized. If both consumers did not watch Movie A and Movie A is the most popular one, both of them will be recommended Movie A.*\n",
    "\n",
    "### Content-based Recommendation \n",
    "\n",
    "This recommender system leverages the data of one customer's historical actions. This recommender systems first utilizes a set of features to describe an item (for example, for movies, we can use the movie's director, main actor, main actress, genre, etc. to describe the movie). When a user comes in, the system will recommend the movies that are closest to the movie that the users have consumed and liked before in terms of the features. For instance, if a user likes action move from Nolan the most, this system will recommend another action movie from Nolan that this user has not consumed. *Note: we will not implement this system in this bonus project since it requires knowledge about supervised learning. We will come back to this topic at the end of this semester.*\n",
    "\n",
    "### Collaborative Filtering Recommendation\n",
    "\n",
    "The last type of recommender system is called collaborative filtering. This approach uses the memory of previous users interactions to compute users similarities based on items they've interacted (user-based approach) or compute items similarities based on the users that have interacted with them (item-based approach).\n",
    "\n",
    "A typical example of this approach is User Neighbourhood-based CF, in which the top-N similar users (usually computed using Pearson correlation) for a user are selected and used to recommend items those similar users liked, but the current user have not interacted yet. \n",
    "\n",
    "\n",
    "## In this bonus project, we will implement the user-based collaborative filtering recommendation algorithm "
   ]
  },
  {
   "cell_type": "markdown",
   "metadata": {
    "deletable": false,
    "editable": false,
    "nbgrader": {
     "checksum": "3ddcc7959f8acab26d9efb5e8f13cf4a",
     "grade": false,
     "grade_id": "cell-4108a0d7ed105cda",
     "locked": true,
     "schema_version": 1,
     "solution": false
    }
   },
   "source": [
    "## 1. Read-in the preference file\n",
    "\n",
    "The first exercise is to read in the movie preference csv file. \n",
    "\n",
    "It returns two things:\n",
    "\n",
    "1. A dictionary where the key is username and the value is a vector of (-1, 0, 1) that indicates the users preference across movies (in the order of the csv file). \n",
    "\n",
    "2. A list of strings that indicate the order of column names.\n",
    "\n",
    "3. A data frame that contains the csv file.\n"
   ]
  },
  {
   "cell_type": "code",
   "execution_count": 1,
   "metadata": {
    "deletable": false,
    "nbgrader": {
     "checksum": "4d41063fa64a5ca23534909aa0fbcf38",
     "grade": false,
     "grade_id": "cell-a6c5818775a784d8",
     "locked": false,
     "schema_version": 1,
     "solution": true
    }
   },
   "outputs": [],
   "source": [
    "import pandas as pd\n",
    "def read_in_movie_preference():\n",
    "    file_location = \"./data/movie_preference.csv\"\n",
    "    df = None\n",
    "    column_names = []\n",
    "    preference = {}\n",
    "    \n",
    "    df = pd.read_csv('./data/movie_preference.csv')\n",
    "    column_names = list(df.columns[1:])\n",
    "    big_list = df.values.tolist()\n",
    "    for i in range(len(big_list)):\n",
    "        preference[big_list[i][0]] = big_list[i][1:]\n",
    "    \n",
    "    return [df, column_names, preference]"
   ]
  },
  {
   "cell_type": "code",
   "execution_count": 2,
   "metadata": {
    "deletable": false,
    "editable": false,
    "nbgrader": {
     "checksum": "2e21dd45d0c56f02ba7785961cec0949",
     "grade": true,
     "grade_id": "cell-929841808982401b",
     "locked": true,
     "points": 15,
     "schema_version": 1,
     "solution": false
    }
   },
   "outputs": [],
   "source": [
    "[df, column_names, preference] = read_in_movie_preference()\n",
    "assert df.shape == (186, 21)"
   ]
  },
  {
   "cell_type": "code",
   "execution_count": 3,
   "metadata": {
    "deletable": false,
    "editable": false,
    "nbgrader": {
     "checksum": "b41a57909828fa8ea276ca6b17bb11c3",
     "grade": true,
     "grade_id": "cell-584dd2cc560c8564",
     "locked": true,
     "points": 15,
     "schema_version": 1,
     "solution": false
    }
   },
   "outputs": [],
   "source": [
    "assert column_names == ['The Shawshank Redemption', 'The Godfather',\n",
    "                       'The Dark Knight ', 'Star Wars: The Force Awakens',\n",
    "                       'The Lord of the Rings: The Return of the King',\n",
    "                       'Inception', 'The Matrix ', 'Avengers: Infinity War ',\n",
    "                       'Interstellar ', 'Spirited Away', 'Coco', 'The Dark Knight Rises',\n",
    "                       'Braveheart', 'The Wolf of Wall Street', 'Gone Girl ', 'La La Land',\n",
    "                       'Shutter Island', 'Ex Machina', 'The Martian', 'Kingsman: The Secret Service']"
   ]
  },
  {
   "cell_type": "code",
   "execution_count": 4,
   "metadata": {
    "deletable": false,
    "editable": false,
    "nbgrader": {
     "checksum": "b2a62add71295ed2bcc51f7b1425ac6f",
     "grade": true,
     "grade_id": "cell-53441cb01fcbec27",
     "locked": true,
     "points": 15,
     "schema_version": 1,
     "solution": false
    }
   },
   "outputs": [],
   "source": [
    "assert preference[\"DJZ\"] == [0, 1, 1, 0, 1, 1, 1, -1, 1, 1, 0, -1, -1, -1, 1, -1, 1, -1, 1, -1]"
   ]
  },
  {
   "cell_type": "markdown",
   "metadata": {
    "deletable": false,
    "editable": false,
    "nbgrader": {
     "checksum": "60306d8aca925274c49802c8f24ea104",
     "grade": false,
     "grade_id": "cell-9cc0fd2029104195",
     "locked": true,
     "schema_version": 1,
     "solution": false
    }
   },
   "source": [
    "## 2. Compute the jaccard similarity of any two persons\n",
    "\n",
    "Your next task is to write a function to compute the jaccard similarity of two persons. In particular, the function should take in two binary vectors representing two persons movie prefecens and compute the jaccard similarity among two persons. In particular, the jaccard similarity of any two persons are equal to \n",
    "\n",
    "$$ \\frac{\\text{Number of Movies both people like}}{\\text{Number of Movies at least one person likes}} $$\n",
    "\n",
    "If there is no movie liked by either of the two persons, jaccard similarity is equal to 0. \n",
    "\n",
    "For example:\n",
    "    \n",
    "    Input: v1 = [1, 0, 1, -1], v2 = [1, 1, 0, 0]\n",
    "    Output: js = 1 / 3 = 0.333\n",
    "   \n"
   ]
  },
  {
   "cell_type": "code",
   "execution_count": 5,
   "metadata": {
    "deletable": false,
    "nbgrader": {
     "checksum": "02284cf2fc0301efca88508a87672fec",
     "grade": false,
     "grade_id": "cell-330ba96678776e4a",
     "locked": false,
     "schema_version": 1,
     "solution": true
    }
   },
   "outputs": [],
   "source": [
    "def jaccard_similarity(preference_1, preference_2):\n",
    "    js = 0\n",
    "\n",
    "    numerator = 0\n",
    "    denominator = 0\n",
    "    for i in range(len(preference_1)):\n",
    "        if preference_1[i] != -1 and preference_2[i] != -1:\n",
    "            numerator += preference_1[i] * preference_2[i]\n",
    "        if preference_1[i] + preference_2[i] == 0:\n",
    "            if preference_1[i] != 0:\n",
    "                denominator += 1\n",
    "        else:\n",
    "            denominator += int(preference_1[i] + preference_2[i] > 0)\n",
    "\n",
    "    if denominator > 0:\n",
    "        js = numerator / denominator\n",
    "    if denominator == 0:\n",
    "        js = 0\n",
    "    return js\n"
   ]
  },
  {
   "cell_type": "code",
   "execution_count": 6,
   "metadata": {
    "deletable": false,
    "editable": false,
    "nbgrader": {
     "checksum": "45f3c6f71ced4ec49dd4a051d5ea309c",
     "grade": true,
     "grade_id": "cell-7896e9671c2b7713",
     "locked": true,
     "points": 15,
     "schema_version": 1,
     "solution": false
    }
   },
   "outputs": [],
   "source": [
    "assert round(jaccard_similarity([1, 0, 1, -1], [1, 1, 0, 0]), 2) == 0.33\n",
    "assert jaccard_similarity(preference[\"123\"], preference[\"DJZ\"]) == 0.25"
   ]
  },
  {
   "cell_type": "markdown",
   "metadata": {
    "deletable": false,
    "editable": false,
    "nbgrader": {
     "checksum": "0f32e4b56b312c676bf2aa5628e835f0",
     "grade": false,
     "grade_id": "cell-4e5bda9e37c1f991",
     "locked": true,
     "schema_version": 1,
     "solution": false
    }
   },
   "source": [
    "## 3. Finding Soulmates\n",
    "\n",
    "Given a person's name, implement a function that finds the person's movie soulmate. Soulmate is defined as the other person who has the highest jaccard similarity that is less than 1 with the focal person. If there are multiple people having the same jaccard similarity with the focal person, pick the person with the smallest name (sorting names in the ascending order). This function should return the soul mate name the movie preference of the soul mate, and the jaccard similarity score of the soul mate\n",
    "\n"
   ]
  },
  {
   "cell_type": "code",
   "execution_count": 7,
   "metadata": {
    "deletable": false,
    "nbgrader": {
     "checksum": "5fde4c99d844c633044ff2f0bf4aad1d",
     "grade": false,
     "grade_id": "cell-3cf2c39ef6f2c170",
     "locked": false,
     "schema_version": 1,
     "solution": true
    }
   },
   "outputs": [],
   "source": [
    "def Find_Soul_Mate(preference, name):\n",
    "    soulmate = \"\"\n",
    "    soulmate_preference = []\n",
    "    max_js = 0\n",
    "    jaccard_dict = {}\n",
    "    big_list = []\n",
    "    big_list = df.values.tolist()\n",
    "    for i in range(186):\n",
    "        jaccard_dict[big_list[i][0]] = jaccard_similarity(big_list[i][1:], preference[name])\n",
    "    \n",
    "    jaccard = pd.DataFrame.from_dict(jaccard_dict, orient='index')\n",
    "    jaccard.reset_index(drop=False, inplace=True)\n",
    "\n",
    "    jaccard.columns = ['name','similarity']\n",
    "    jaccard = jaccard.sort_values(by = ['similarity', 'name'], ascending = [False,True]).reset_index(drop=True)\n",
    "    soulmate = jaccard.loc[1, 'name']\n",
    "    soulmate_preference = preference[soulmate]\n",
    "    max_js = jaccard.loc[1, 'similarity']\n",
    "    \n",
    "    return [soulmate, soulmate_preference, max_js]\n"
   ]
  },
  {
   "cell_type": "code",
   "execution_count": 8,
   "metadata": {
    "deletable": false,
    "editable": false,
    "nbgrader": {
     "checksum": "b4f1be4502a20f8b2442c9a41c566512",
     "grade": true,
     "grade_id": "cell-6425dc4f6facbbba",
     "locked": true,
     "points": 20,
     "schema_version": 1,
     "solution": false
    }
   },
   "outputs": [],
   "source": [
    "[soulmate, soulmate_preference, js] = Find_Soul_Mate(preference, \"DJZ\")\n",
    "[soulmate, soulmate_preference, js]\n",
    "assert soulmate == 'Jade'\n",
    "assert soulmate_preference == [1, 1, 1, 0, 1, 1, 1, -1, 0, 1, 0, 0, 0, 0, 1, 0, 1, 0, 0, 0]\n",
    "assert js == 0.7272727272727273"
   ]
  },
  {
   "cell_type": "markdown",
   "metadata": {
    "deletable": false,
    "editable": false,
    "nbgrader": {
     "checksum": "df2a03191f65ec1b6131fffbe3bf589f",
     "grade": false,
     "grade_id": "cell-94b7b301cb7550d8",
     "locked": true,
     "schema_version": 1,
     "solution": false
    }
   },
   "source": [
    "## 4. Recommendation\n",
    "This function takes in a name and recommends a movie. The recommended movie is the first movie (in the order of the column) that this person's soulmate has watched but this person has not. If such movie does not exist, return an empty string. If it exists, returns the name of the movie.\n",
    "\n",
    "**Note:** from the test case we can see that this recommendation method generates the same outcome as the popularity-based recommendation. "
   ]
  },
  {
   "cell_type": "code",
   "execution_count": 9,
   "metadata": {
    "deletable": false,
    "nbgrader": {
     "checksum": "44ce660ab241dcf1f178e8d6200eb389",
     "grade": false,
     "grade_id": "cell-52b14b8b2b095c22",
     "locked": false,
     "schema_version": 1,
     "solution": true
    }
   },
   "outputs": [],
   "source": [
    "def Recommendation(preference, name, movie_names):\n",
    "    recommendation = \"\"\n",
    "    [soulmate, soulmate_preference, js] = Find_Soul_Mate(preference, \"DJZ\")\n",
    "    for i in range(len(preference[name])):\n",
    "        if preference[name][i] == 0:\n",
    "            if soulmate_preference[i] == 1:\n",
    "                break\n",
    "    recommendation = movie_names[i]\n",
    "    \n",
    "    return recommendation\n"
   ]
  },
  {
   "cell_type": "code",
   "execution_count": 10,
   "metadata": {
    "deletable": false,
    "editable": false,
    "nbgrader": {
     "checksum": "874d09a435d3553ff518f3f89f0740fc",
     "grade": true,
     "grade_id": "cell-e654bc0ad6f4e75d",
     "locked": true,
     "points": 20,
     "schema_version": 1,
     "solution": false
    }
   },
   "outputs": [],
   "source": [
    "assert Recommendation(preference, \"DJZ\", column_names) == 'The Shawshank Redemption'"
   ]
  }
 ],
 "metadata": {
  "kernelspec": {
   "display_name": "Python 3",
   "language": "python",
   "name": "python3"
  },
  "language_info": {
   "codemirror_mode": {
    "name": "ipython",
    "version": 3
   },
   "file_extension": ".py",
   "mimetype": "text/x-python",
   "name": "python",
   "nbconvert_exporter": "python",
   "pygments_lexer": "ipython3",
   "version": "3.6.5"
  }
 },
 "nbformat": 4,
 "nbformat_minor": 2
}
